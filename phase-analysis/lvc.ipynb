{
 "cells": [
  {
   "cell_type": "code",
   "execution_count": 1,
   "metadata": {},
   "outputs": [
    {
     "data": {
      "text/plain": [
       "0"
      ]
     },
     "execution_count": 1,
     "metadata": {},
     "output_type": "execute_result"
    }
   ],
   "source": [
    "import numpy as np\n",
    "import time\n",
    "import numba as nb\n",
    "import utils\n",
    "import gc\n",
    "import kmeans\n",
    "import correlation\n",
    "import plotting\n",
    "import importlib\n",
    "import matplotlib.pyplot as plt\n",
    "import read\n",
    "import distance\n",
    "import scipy.optimize as optim\n",
    "import scipy.integrate as integrate\n",
    "import gzip\n",
    "import shutil\n",
    "import os\n",
    "\n",
    "\n",
    "def rho_z_integrate(z, A):\n",
    "    rhol = A[0]\n",
    "    rhog = A[1]\n",
    "    z0 = A[2]\n",
    "    d = A[3]\n",
    "    rho = 0.5 * (rhol + rhog) - 0.5 * (rhol - rhog) * np.tanh((2 * (z - z0)) / d)\n",
    "    return rho\n",
    "\n",
    "\n",
    "def rho_z(A, z):\n",
    "    rhol = A[0]\n",
    "    rhog = A[1]\n",
    "    z0 = A[2]\n",
    "    d = A[3]\n",
    "    rho = 0.5 * (rhol + rhog) - 0.5 * (rhol - rhog) * np.tanh((2 * (z - z0)) / d)\n",
    "    return rho\n",
    "\n",
    "\n",
    "def fit(A, z, density):\n",
    "    err = np.linalg.norm(density - rho_z(A, z)) ** 2\n",
    "    return err\n",
    "\n",
    "\n",
    "def reload_utils():\n",
    "    importlib.reload(utils)\n",
    "    importlib.reload(kmeans)\n",
    "    importlib.reload(correlation)\n",
    "    importlib.reload(plotting)\n",
    "    importlib.reload(read)\n",
    "    importlib.reload(distance)\n",
    "\n",
    "    return None\n",
    "\n",
    "\n",
    "atomic_masses_trisiloxane = {\n",
    "    1: 12.011,  # C\n",
    "    2: 28.085,  # outer Si\n",
    "    3: 15.999,  # O\n",
    "    4: 1.008,  # outer H\n",
    "}\n",
    "\n",
    "mol = \"trisiloxane\"\n",
    "AMU_TO_KG = 1.66054e-27\n",
    "gc.collect()"
   ]
  },
  {
   "cell_type": "markdown",
   "metadata": {},
   "source": [
    "- Trisiloxane 1,1,1,5,5,5 hexamethyl (3)\n",
    "- Silanol trimethyl (2) \n",
    "- Cyclotrisiloxane hexamethyl (1)"
   ]
  },
  {
   "cell_type": "code",
   "execution_count": 2,
   "metadata": {},
   "outputs": [
    {
     "name": "stdout",
     "output_type": "stream",
     "text": [
      "\n",
      "Reading Data...\n",
      "\n"
     ]
    },
    {
     "name": "stderr",
     "output_type": "stream",
     "text": [
      "100%|██████████| 1001/1001 [02:32<00:00,  6.57it/s]\n"
     ]
    },
    {
     "name": "stdout",
     "output_type": "stream",
     "text": [
      "\n",
      "Converting to molecule...Done\n",
      "Generating Coordination Number...Done\n"
     ]
    }
   ],
   "source": [
    "reload_utils()\n",
    "atomic_masses_trisiloxane = {\n",
    "    1: 12.011,  # C\n",
    "    2: 28.085,  # outer Si\n",
    "    3: 15.999,  # O\n",
    "    4: 1.008,  # outer H\n",
    "}\n",
    "\n",
    "mol = \"trisiloxane\"\n",
    "temp = 400\n",
    "lvc_path = f\"data/LVC/{mol}/LVC_{mol}_eq{temp}K_a.dump\"\n",
    "with gzip.open(lvc_path + \".gz\", \"rb\") as f_in:\n",
    "    with open(lvc_path, \"wb\") as f_out:\n",
    "        shutil.copyfileobj(f_in, f_out)\n",
    "df = read.process_data(lvc_path, atomic_masses_trisiloxane, metal_type=-1, Nt_lim=None)\n",
    "lags = [12]\n",
    "radii = [14]\n",
    "# radii = [24]\n",
    "# lags = [8]\n",
    "utils.generate_dz(lags, df)\n",
    "utils.generate_displacement(lags, df)\n",
    "distance.generate_coord_num(radii, df)\n",
    "lag = 12\n",
    "rad = 14\n",
    "nstart = 10\n",
    "seed = 0\n",
    "tol = 1e-12\n",
    "cluster_vars = [f\"coordination_{rad}\", \"pe\", f\"(displacement_{lag})\"]\n",
    "# cluster_vars = [f\"coordination_{rad}\", \"pe\"]\n",
    "df[\"cluster_vars\"] = cluster_vars\n",
    "pe = np.sum(df[\"molecule\"][\"pe\"], axis=1)\n",
    "_, start, _ = correlation.actime(pe)\n",
    "molecule_phase, atom_phase, centroids, err = kmeans.classify_phase(\n",
    "    df, cluster_vars, start=start\n",
    ")\n",
    "percent_gas_kmeans = np.mean(df[\"Ngas\"][lag + start :] / df[\"Nmolecule\"])\n",
    "percent_liq_kmeans = np.mean(df[\"Nliquid\"][lag + start :] / df[\"Nmolecule\"])\n"
   ]
  },
  {
   "cell_type": "code",
   "execution_count": 5,
   "metadata": {},
   "outputs": [],
   "source": [
    "del df\n",
    "gc.collect()\n",
    "try:\n",
    "    os.remove(lvc_path)\n",
    "except Exception as e:\n",
    "    print(e)"
   ]
  },
  {
   "cell_type": "code",
   "execution_count": null,
   "metadata": {},
   "outputs": [
    {
     "name": "stdout",
     "output_type": "stream",
     "text": [
      "\n",
      "Reading Data...\n",
      "\n"
     ]
    },
    {
     "name": "stderr",
     "output_type": "stream",
     "text": [
      "100%|██████████| 1001/1001 [02:22<00:00,  7.05it/s]\n"
     ]
    },
    {
     "name": "stdout",
     "output_type": "stream",
     "text": [
      "\n",
      "Converting to molecule...Done\n",
      "Generating Coordination Number...Done\n",
      "too many indices for array: array is 2-dimensional, but 3 were indexed\n",
      "\n",
      "Reading Data...\n",
      "\n"
     ]
    }
   ],
   "source": [
    "temps = [x for x in range(225, 625, 25) if x != 550]\n",
    "\n",
    "rho_cs = np.zeros(len(temps))\n",
    "rho_gs_actual = np.zeros(len(temps))\n",
    "rho_gs_kmeans = np.zeros(len(temps))\n",
    "rho_ls_actual = np.zeros(len(temps))\n",
    "rho_ls_kmeans = np.zeros(len(temps))\n",
    "percents_liq_actual = np.zeros(len(temps))\n",
    "percents_gas_actual = np.zeros(len(temps))\n",
    "percents_liq_kmeans = np.zeros(len(temps))\n",
    "percents_gas_kmeans = np.zeros(len(temps))\n",
    "\n",
    "for i, temp in enumerate(temps):\n",
    "    lvc_path = f\"data/LVC/{mol}/LVC_{mol}_eq{temp}K_a.dump\"\n",
    "\n",
    "    with gzip.open(lvc_path + \".gz\", \"rb\") as f_in:\n",
    "        with open(lvc_path, \"wb\") as f_out:\n",
    "            shutil.copyfileobj(f_in, f_out)\n",
    "            df = read.process_data(\n",
    "                lvc_path, atomic_masses_trisiloxane, metal_type=-1, Nt_lim=None\n",
    "            )\n",
    "            radii = [14]\n",
    "            lags = [12]\n",
    "            utils.generate_dz(lags, df)\n",
    "            utils.generate_displacement(lags, df)\n",
    "            distance.generate_coord_num(radii, df)\n",
    "\n",
    "            lag = 12\n",
    "            rad = 14\n",
    "            nstart = 10\n",
    "            seed = 0\n",
    "            tol = 1e-12\n",
    "            cluster_vars = [f\"coordination_{rad}\", \"pe\", f\"(displacement_{lag})\"]\n",
    "            # cluster_vars = [f\"log(displacement_{lag})\"]\n",
    "            pe = np.sum(df[\"molecule\"][\"pe\"], axis=1)\n",
    "            df[\"cluster_vars\"] = cluster_vars\n",
    "            _, start, _ = correlation.actime(pe)\n",
    "            molecule_phase, atom_phase, _, err = kmeans.classify_phase(\n",
    "                df, cluster_vars, start=start, external_centroids=centroids\n",
    "            )\n",
    "            percent_gas_kmeans = np.mean(df[\"Ngas\"][lag + start :] / df[\"Nmolecule\"])\n",
    "            percent_liq_kmeans = np.mean(df[\"Nliquid\"][lag + start :] / df[\"Nmolecule\"])\n",
    "\n",
    "            z = df[\"molecule\"][\"z\"]\n",
    "            L = utils.get_L(df)\n",
    "            com = np.mean(z, axis=1)\n",
    "            z = z - com[:, np.newaxis]\n",
    "            zmin = np.max(np.min(z, axis=1))  # lowest z bin present for all t\n",
    "            zmax = np.min(np.max(z, axis=1))  # highest z bin present for all t\n",
    "            hist_range = (zmin, zmax)\n",
    "            nbins = 200\n",
    "            density, zbin = utils.density(z, nbins, hist_range, time_avg=True)\n",
    "            density /= df[\"Nmolecule\"]\n",
    "\n",
    "            try:\n",
    "                A0 = np.array([0.001, 0.0005, 60, 20])  # rho_l, rho_g, z0, d\n",
    "                train_z = np.abs(zbin).copy()\n",
    "                xopt = optim.fmin(func=fit, x0=A0, args=(train_z, density), disp=False)\n",
    "                rho_l, rho_g, z0, d = xopt\n",
    "\n",
    "                rho = rho_z(xopt, train_z)\n",
    "                rho_coexist = rho[np.argmin(np.abs(train_z - z0))]\n",
    "                s = np.argsort(train_z)\n",
    "\n",
    "                percent_liq, err_liq = integrate.quad(\n",
    "                    rho_z_integrate, 0, z0, args=(xopt), full_output=0\n",
    "                )\n",
    "                percent_gas, err_gas = integrate.quad(\n",
    "                    rho_z_integrate, z0, zmax, args=(xopt), full_output=0\n",
    "                )\n",
    "                total = percent_gas + percent_liq\n",
    "                percent_gas /= total\n",
    "                percent_liq /= total\n",
    "\n",
    "                fig, ax = plt.subplots(figsize=(8, 6), dpi=200)\n",
    "                dz = np.abs(zbin[1] - zbin[0])\n",
    "                slice_volume = dz * L[0] * L[1] * 1e-10**3\n",
    "                mol_weight = df[\"molecule\"][\"mass\"] * AMU_TO_KG\n",
    "                norm = df[\"Nmolecule\"] * mol_weight / slice_volume\n",
    "                mask_g = molecule_phase == 1\n",
    "                mask_l = molecule_phase == 0\n",
    "                z_g = z[:, mask_g]\n",
    "                z_l = z[:, mask_l]\n",
    "                z_g_min = np.max(np.min(z_g, axis=1))\n",
    "                z_g_max = np.min(np.max(z_g, axis=1))\n",
    "                z_l_min = np.max(np.min(z_l, axis=1))\n",
    "                z_l_max = np.min(np.max(z_l, axis=1))\n",
    "                hist_range_g = (z_g_min, z_g_max)\n",
    "                hist_range_l = (z_l_min, z_l_max)\n",
    "                density_g, zbin_g = utils.density(\n",
    "                    z_g, nbins, hist_range_g, time_avg=True\n",
    "                )\n",
    "                density_l, zbin_l = utils.density(\n",
    "                    z_l, nbins, hist_range_l, time_avg=True\n",
    "                )\n",
    "                density_g /= df[\"Ngas\"]\n",
    "                density_l /= df[\"Nliquid\"]\n",
    "                density_g *= norm\n",
    "                density_l *= norm\n",
    "                rho_gs_kmeans[i] = np.mean(density_g)\n",
    "                rho_ls_kmeans[i] = np.mean(density_l)\n",
    "                rho_gs_actual[i] = rho_g * norm\n",
    "                rho_ls_actual[i] = rho_l * norm\n",
    "\n",
    "                y1 = density * norm\n",
    "                y2 = rho * norm\n",
    "                x = zbin\n",
    "                ylim = (0, 1.1 * max(y1.max(), y2.max()))\n",
    "\n",
    "                ax.set_xlabel(\"Z (Å)\")\n",
    "                ax.set_ylabel(r\"$\\rho \\ (kg \\cdot m^{-3})$\")\n",
    "                ax.set_title(f\"{mol} {temp}K Density Profile\")\n",
    "                ax.set_xlim(zmin, zmax)\n",
    "                ax.set_ylim(ylim)\n",
    "                ax.plot(x, y1, label=\"data\")\n",
    "                ax.plot(x, y2, label=\"fit\")\n",
    "                ax.vlines(\n",
    "                    z0,\n",
    "                    0,\n",
    "                    ylim[1],\n",
    "                    color=\"tab:red\",\n",
    "                    linestyle=\"--\",\n",
    "                    label=\"z0\",\n",
    "                    zorder=1,\n",
    "                )\n",
    "                # ax.vlines(-z0, 0, ylim[1], color=\"tab:red\", linestyle=\"--\", zorder=0)\n",
    "                ax.hlines(\n",
    "                    rho_l * norm,\n",
    "                    zmin,\n",
    "                    0,\n",
    "                    linestyle=(0, (5, 10)),\n",
    "                    color=\"black\",\n",
    "                    zorder=0,\n",
    "                )\n",
    "                ax.text(zmin * 0.7, rho_l * norm * 1.02, r\"$\\rho_l$\", fontsize=12)\n",
    "                ax.text(zmin * 0.7, rho_g * norm * 1.7, r\"$\\rho_g$\", fontsize=12)\n",
    "\n",
    "                start = z0 - d / 2\n",
    "                end = z0 + d / 2\n",
    "                start_arg = np.argmin(np.abs(zbin - start))\n",
    "                end_arg = np.argmin(np.abs(zbin - end))\n",
    "                start_y = rho[start_arg] * norm\n",
    "                end_y = rho[end_arg] * norm\n",
    "                ax.vlines(\n",
    "                    start,\n",
    "                    0,\n",
    "                    start_y * 0.95,\n",
    "                    color=\"black\",\n",
    "                    linestyle=\"--\",\n",
    "                    label=\"d\",\n",
    "                    zorder=0,\n",
    "                )\n",
    "                ax.vlines(end, 0, end_y * 0.95, color=\"black\", linestyle=\"--\", zorder=0)\n",
    "\n",
    "                gas_start = np.argmin(np.abs(zbin - z0))\n",
    "                gas_end = np.argmin(np.abs(zbin + z0))\n",
    "\n",
    "                liq_start = gas_end\n",
    "                liq_end = gas_start\n",
    "\n",
    "                ax.fill_between(\n",
    "                    x[gas_start:],\n",
    "                    y2[gas_start:],\n",
    "                    color=\"tab:red\",\n",
    "                    alpha=0.3,\n",
    "                    label=\"gas\",\n",
    "                )\n",
    "                ax.fill_between(\n",
    "                    x[:gas_end],\n",
    "                    y2[:gas_end],\n",
    "                    color=\"tab:red\",\n",
    "                    alpha=0.3,\n",
    "                    zorder=0,\n",
    "                )\n",
    "\n",
    "                ax.fill_between(\n",
    "                    x[liq_start - 1 : liq_end + 1],\n",
    "                    y2[liq_start - 1 : liq_end + 1],\n",
    "                    color=\"tab:blue\",\n",
    "                    alpha=0.3,\n",
    "                    label=\"cond.\",\n",
    "                    zorder=0,\n",
    "                )\n",
    "\n",
    "                ax.text(-10, 0.5 * ylim[1], f\"{percent_liq * 100:.1f}%\", fontsize=12)\n",
    "                ax.text(\n",
    "                    -10,\n",
    "                    0.45 * ylim[1],\n",
    "                    f\"{percent_liq_kmeans * 100:.1f}%\",\n",
    "                    fontsize=12,\n",
    "                    color=\"tab:green\",\n",
    "                )\n",
    "                ax.text(\n",
    "                    0.6 * zmax,\n",
    "                    1.5 * rho_g * norm,\n",
    "                    f\"{percent_gas * 100:.1f}%\",\n",
    "                    fontsize=12,\n",
    "                )\n",
    "                ax.text(\n",
    "                    0.75 * zmax,\n",
    "                    1.5 * rho_g * norm,\n",
    "                    f\"{percent_gas_kmeans * 100:.1f}%\",\n",
    "                    fontsize=12,\n",
    "                    color=\"tab:green\",\n",
    "                )\n",
    "\n",
    "                x = z0\n",
    "                y = rho_coexist * norm\n",
    "                rho_cs[i] = y\n",
    "                percents_liq_actual[i] = percent_liq\n",
    "                percents_gas_actual[i] = percent_gas\n",
    "                percents_liq_kmeans[i] = percent_liq_kmeans\n",
    "                percents_gas_kmeans[i] = percent_gas_kmeans\n",
    "\n",
    "                ax.scatter(x, y, color=\"black\", zorder=10, s=15)\n",
    "                ax.text(x * 1.1, y, rf\"$\\rho_c$ = {y:.1f}\", fontsize=10)\n",
    "\n",
    "                ax.legend()\n",
    "\n",
    "                fig.savefig(f\"data/LVC/{mol}/Figures/{mol}_{temp}K_density_profile.png\")\n",
    "\n",
    "                plt.close()\n",
    "\n",
    "            except Exception as e:\n",
    "                print(e)\n",
    "\n",
    "    del df\n",
    "    try:\n",
    "        os.remove(lvc_path)\n",
    "    except Exception as e:\n",
    "        print(e)\n",
    "\n",
    "    gc.collect()\n",
    "\n",
    "mask = rho_cs > 0\n",
    "temps = np.array(temps)[mask]\n",
    "rho_cs = rho_cs[mask]\n",
    "fig, ax = plt.subplots(figsize=(8, 6), dpi=200)\n",
    "ax.set_xlabel(r\"$\\rho \\ (kg \\cdot m^{-3})$\")\n",
    "ax.set_ylabel(\"T (K)\")\n",
    "ax.set_title(f\"{mol} LVC\")\n",
    "ax.plot(rho_cs, temps, marker=\"o\", color=\"tab:blue\")\n",
    "fig.savefig(f\"data/LVC/{mol}/Figures/{mol}_LVC.png\")\n",
    "plt.show()"
   ]
  },
  {
   "cell_type": "code",
   "execution_count": null,
   "metadata": {},
   "outputs": [],
   "source": [
    "y = np.array(temps)[5:9]\n",
    "x = rho_cs[5:9]\n",
    "fig, ax = plt.subplots(figsize=(8, 6), dpi=200)\n",
    "ax.set_xlabel(r\"$\\rho \\ (kg \\cdot m^{-3})$\")\n",
    "ax.set_ylabel(\"T (K)\")\n",
    "ax.set_title(f\"{mol} LVC\")\n",
    "ax.plot(x, y, marker=\"o\", color=\"tab:blue\")\n",
    "fig.savefig(f\"data/LVC/{mol}/Figures/{mol}_LVC.png\")\n",
    "plt.show()\n"
   ]
  },
  {
   "cell_type": "code",
   "execution_count": null,
   "metadata": {},
   "outputs": [],
   "source": [
    "fig, ax = plt.subplots(figsize=(8, 6), dpi=200)\n",
    "ax.set_xlabel(\"T (K)\")\n",
    "ax.set_ylabel(\"Percent Liquid\")\n",
    "ax.set_title(f\"{mol} Percent Liquid\")\n",
    "ax.plot(\n",
    "    temps[5:9],\n",
    "    percents_liq_actual[5:9] * 100,\n",
    "    marker=\"o\",\n",
    "    color=\"tab:blue\",\n",
    "    label=\"LVC\",\n",
    ")\n",
    "ax.plot(\n",
    "    temps, percents_liq_kmeans * 100, marker=\"o\", color=\"tab:green\", label=\"K-means\"\n",
    ")\n",
    "ax.legend()\n",
    "fig.savefig(f\"data/LVC/{mol}/Figures/{mol}_percent_liquid.png\")\n",
    "plt.show()\n",
    "\n",
    "fig, ax = plt.subplots(figsize=(8, 6), dpi=200)\n",
    "ax.set_xlabel(\"T (K)\")\n",
    "ax.set_ylabel(\"Percent Gas\")\n",
    "ax.set_title(f\"{mol} Percent Gas\")\n",
    "ax.plot(\n",
    "    temps[5:9],\n",
    "    percents_gas_actual[5:9] * 100,\n",
    "    marker=\"o\",\n",
    "    color=\"tab:blue\",\n",
    "    label=\"LVC\",\n",
    ")\n",
    "ax.plot(\n",
    "    temps, percents_gas_kmeans * 100, marker=\"o\", color=\"tab:green\", label=\"K-means\"\n",
    ")\n",
    "ax.legend()\n",
    "fig.savefig(f\"data/LVC/{mol}/Figures/{mol}_percent_gas.png\")\n",
    "plt.show()"
   ]
  },
  {
   "cell_type": "code",
   "execution_count": null,
   "metadata": {},
   "outputs": [],
   "source": [
    "reload_utils()\n",
    "atomic_masses_trisiloxane = {\n",
    "    1: 12.011,  # C\n",
    "    2: 28.085,  # outer Si\n",
    "    3: 15.999,  # O\n",
    "    4: 1.008,  # outer H\n",
    "}\n",
    "\n",
    "mol = \"trisiloxane\"\n",
    "temp = 400\n",
    "lvc_path = f\"data/LVC/{mol}/LVC_{mol}_eq{temp}K_a.dump\"\n",
    "with gzip.open(lvc_path + \".gz\", \"rb\") as f_in:\n",
    "    with open(lvc_path, \"wb\") as f_out:\n",
    "        shutil.copyfileobj(f_in, f_out)\n",
    "df = read.process_data(lvc_path, atomic_masses_trisiloxane, metal_type=-1, Nt_lim=None)\n"
   ]
  },
  {
   "cell_type": "code",
   "execution_count": null,
   "metadata": {},
   "outputs": [],
   "source": [
    "lags = [i for i in range(6, 14, 2)]\n",
    "radii = [i for i in range(14, 28, 2)]\n",
    "# radii = [24]\n",
    "# lags = [8]\n",
    "utils.generate_dz(lags, df)\n",
    "utils.generate_displacement(lags, df)\n",
    "distance.generate_coord_num(radii, df)\n"
   ]
  },
  {
   "cell_type": "code",
   "execution_count": 3,
   "metadata": {},
   "outputs": [
    {
     "name": "stdout",
     "output_type": "stream",
     "text": [
      "\n",
      "Reading Data...\n",
      "\n"
     ]
    },
    {
     "name": "stderr",
     "output_type": "stream",
     "text": [
      "100%|██████████| 1001/1001 [02:39<00:00,  6.26it/s]\n"
     ]
    },
    {
     "name": "stdout",
     "output_type": "stream",
     "text": [
      "\n",
      "Converting to molecule...Done\n"
     ]
    }
   ],
   "source": [
    "temp = 250\n",
    "lvc_path = f\"data/LVC/{mol}/LVC_{mol}_eq{temp}K_a.dump\"\n",
    "# with gzip.open(lvc_path + \".gz\", \"rb\") as f_in:\n",
    "#     with open(lvc_path, \"wb\") as f_out:\n",
    "#         shutil.copyfileobj(f_in, f_out)\n",
    "df250 = read.process_data(\n",
    "    lvc_path, atomic_masses_trisiloxane, metal_type=-1, Nt_lim=None\n",
    ")"
   ]
  },
  {
   "cell_type": "code",
   "execution_count": 4,
   "metadata": {},
   "outputs": [
    {
     "name": "stdout",
     "output_type": "stream",
     "text": [
      "Generating Coordination Number...Done\n"
     ]
    }
   ],
   "source": [
    "lags = [i for i in range(6, 14, 2)]\n",
    "radii = [i for i in range(14, 28, 2)]\n",
    "lags = [12]\n",
    "radii = [14]\n",
    "# radii = [24]\n",
    "# lags = [8]\n",
    "utils.generate_dz(lags, df250)\n",
    "utils.generate_displacement(lags, df250)\n",
    "distance.generate_coord_num(radii, df250)"
   ]
  },
  {
   "cell_type": "code",
   "execution_count": null,
   "metadata": {},
   "outputs": [],
   "source": [
    "# from sklearn.mixture import GaussianMixture\n",
    "\n",
    "# cluster_vars = [f\"coordination_{rad}\", \"pe\", f\"log(dz_{lag})\"]\n",
    "# data, Nt, max_lag = kmeans.prep_data(df, cluster_vars)\n",
    "# gm = GaussianMixture(n_components=2, random_state=0).fit(data)\n",
    "# phase = gm.predict(data)\n",
    "# print(np.sum(phase == 0) / (df[\"Nt\"] - max_lag) / df[\"Nmolecule\"])\n",
    "# print(np.sum(phase == 1) / (df[\"Nt\"] - max_lag) / df[\"Nmolecule\"])"
   ]
  },
  {
   "cell_type": "code",
   "execution_count": 5,
   "metadata": {},
   "outputs": [],
   "source": [
    "lag = 12\n",
    "rad = 14\n",
    "nstart = 10\n",
    "seed = 0\n",
    "tol = 1e-12\n",
    "cluster_vars = [f\"coordination_{rad}\", \"pe\", f\"(displacement_{lag})\"]\n",
    "# cluster_vars = [f\"coordination_{rad}\", \"pe\"]\n",
    "df[\"cluster_vars\"] = cluster_vars\n",
    "pe = np.sum(df[\"molecule\"][\"pe\"], axis=1)\n",
    "_, start, _ = correlation.actime(pe)\n",
    "molecule_phase, atom_phase, centroids, err = kmeans.classify_phase(\n",
    "    df, cluster_vars, start=start\n",
    ")\n",
    "percent_gas_kmeans = np.mean(df[\"Ngas\"][lag + start :] / df[\"Nmolecule\"])\n",
    "percent_liq_kmeans = np.mean(df[\"Nliquid\"][lag + start :] / df[\"Nmolecule\"])"
   ]
  },
  {
   "cell_type": "code",
   "execution_count": null,
   "metadata": {},
   "outputs": [],
   "source": [
    "print(percent_gas_kmeans)"
   ]
  },
  {
   "cell_type": "code",
   "execution_count": 6,
   "metadata": {},
   "outputs": [],
   "source": [
    "df250[\"cluster_vars\"] = cluster_vars\n",
    "pe = np.sum(df250[\"molecule\"][\"pe\"], axis=1)\n",
    "_, start, _ = correlation.actime(pe)\n",
    "molecule_phase, atom_phase, centroids250, err = kmeans.classify_phase(\n",
    "    df250, cluster_vars, start=start, external_centroids=centroids\n",
    ")\n",
    "percent_gas_kmeans250 = np.mean(df250[\"Ngas\"][lag + start :] / df250[\"Nmolecule\"])\n",
    "percent_liq_kmeans250 = np.mean(df250[\"Nliquid\"][lag + start :] / df250[\"Nmolecule\"])\n"
   ]
  },
  {
   "cell_type": "markdown",
   "metadata": {},
   "source": [
    "each timestep is a millionth of a nanosecond, or a femtosecond. So if dt = 10000, then each step is 10 picoseconds which is one one hundreth of a nanosecond. If dt = 50000, then each step is 50 picoseconds, which is 5 hundredths of a nanosecond "
   ]
  },
  {
   "cell_type": "code",
   "execution_count": 8,
   "metadata": {},
   "outputs": [
    {
     "data": {
      "text/html": [
       "\n",
       "        <iframe\n",
       "            width=\"100%\"\n",
       "            height=\"900\"\n",
       "            src=\"http://127.0.0.1:63854/\"\n",
       "            frameborder=\"0\"\n",
       "            allowfullscreen\n",
       "            \n",
       "        ></iframe>\n",
       "        "
      ],
      "text/plain": [
       "<IPython.lib.display.IFrame at 0x17fef087e00>"
      ]
     },
     "metadata": {},
     "output_type": "display_data"
    },
    {
     "data": {
      "text/plain": [
       "<dash.dash.Dash at 0x17fec9c39b0>"
      ]
     },
     "execution_count": 8,
     "metadata": {},
     "output_type": "execute_result"
    }
   ],
   "source": [
    "reload_utils()\n",
    "plotting.scatter_var_step(\n",
    "    df250,\n",
    "    \"phase\",\n",
    "    250,\n",
    "    mode=\"mol\",\n",
    "    traces=True,\n",
    "    ntraces=5,\n",
    "    reversescale=None,\n",
    "    metal=False,\n",
    "    metal_dynamics=False,\n",
    "    top=False,\n",
    "    bottom=False,\n",
    ")\n"
   ]
  },
  {
   "cell_type": "code",
   "execution_count": 281,
   "metadata": {},
   "outputs": [],
   "source": [
    "zmax = df[\"bounds\"][-1, -1]\n",
    "zmin = df[\"bounds\"][-1, 0]\n",
    "z = df[\"molecule\"][\"z\"]\n",
    "com = np.mean(z, axis=1)\n",
    "# print(com.shape)\n",
    "z = z - com[:, np.newaxis]\n",
    "hist_range = (zmin, zmax)\n",
    "nbins = 200\n",
    "density, zbin = utils.density(z, nbins, hist_range, time_avg=False)\n",
    "density /= df[\"Nmolecule\"]"
   ]
  },
  {
   "cell_type": "code",
   "execution_count": null,
   "metadata": {},
   "outputs": [],
   "source": [
    "plt.plot(com)\n",
    "plt.xlabel(\"t\")\n",
    "plt.ylabel(\"z com\")\n",
    "plt.show()"
   ]
  },
  {
   "cell_type": "code",
   "execution_count": null,
   "metadata": {},
   "outputs": [],
   "source": [
    "# animate density at each t\n",
    "\n",
    "from matplotlib import animation\n",
    "from IPython.core.display import HTML\n",
    "\n",
    "fig, ax = plt.subplots(figsize=(8, 6))\n",
    "ax.set_xlabel(\"z\")\n",
    "ax.set_ylabel(\"rho\")\n",
    "ax.set_title(\"Density profile\")\n",
    "ax.set_xlim(zmin, zmax)\n",
    "ylim = (0, density.max() * 100)\n",
    "ax.set_ylim(ylim)\n",
    "plt.close()\n",
    "\n",
    "\n",
    "def animate(t):\n",
    "    ax.clear()\n",
    "    z_plot = np.linspace(zmin, zmax, num=nbins, endpoint=True)\n",
    "    ax.plot(z_plot[1:-1], density[t][1:-1] * 100)\n",
    "    ax.set_xlabel(\"z\")\n",
    "    ax.set_ylabel(\"Molecule %\")\n",
    "    ax.set_title(f\"Molecular Density Profile t = {t}\")\n",
    "    ax.set_xlim(zmin, zmax)\n",
    "    ax.set_ylim(ylim)\n",
    "\n",
    "\n",
    "frames = np.arange(0, df[\"Nt\"], 10)\n",
    "anim = animation.FuncAnimation(fig, animate, frames=frames, interval=100)\n",
    "HTML(anim.to_html5_video())"
   ]
  },
  {
   "cell_type": "code",
   "execution_count": null,
   "metadata": {},
   "outputs": [],
   "source": [
    "reload_utils()\n",
    "plotting.plot_density(df, nbins=nbins, norm=\"percent\")\n",
    "plt.show()"
   ]
  },
  {
   "cell_type": "code",
   "execution_count": null,
   "metadata": {},
   "outputs": [],
   "source": [
    "z = df[\"molecule\"][\"z\"]\n",
    "L = utils.get_L(df)\n",
    "com = np.mean(z, axis=1)\n",
    "z = z - com[:, np.newaxis]\n",
    "zmin = np.max(np.min(z, axis=1))  # lowest z bin present for all t\n",
    "zmax = np.min(np.max(z, axis=1))  # highest z bin present for all t\n",
    "print(zmin, zmax)"
   ]
  },
  {
   "cell_type": "code",
   "execution_count": 287,
   "metadata": {},
   "outputs": [],
   "source": [
    "hist_range = (zmin, zmax)\n",
    "nbins = 200\n",
    "density, zbin = utils.density(z, nbins, hist_range, time_avg=True)\n",
    "density /= df[\"Nmolecule\"]"
   ]
  },
  {
   "cell_type": "code",
   "execution_count": null,
   "metadata": {},
   "outputs": [],
   "source": [
    "A0 = np.array([0.001, 0.0005, 60, 20])  # rho_l, rho_g, z0, d\n",
    "train_z = np.abs(zbin).copy()\n",
    "xopt = optim.fmin(func=fit, x0=A0, args=(train_z, density))\n",
    "rho_l, rho_g, z0, d = xopt\n",
    "\n",
    "print(\n",
    "    f\"\\nrho_l: {rho_l * 100:.4f}%\\nrho_g: {rho_g * 100:.4f}%\\nz0: {z0:.4f}Å\\nd: {d:.4f}Å\"\n",
    ")\n",
    "rho = rho_z(xopt, train_z)\n",
    "rho_coexist = rho[np.argmin(np.abs(train_z - z0))]\n",
    "s = np.argsort(train_z)"
   ]
  },
  {
   "cell_type": "code",
   "execution_count": null,
   "metadata": {},
   "outputs": [],
   "source": [
    "percent_liq, err_liq = integrate.quad(\n",
    "    rho_z_integrate, 0, z0, args=(xopt), full_output=0\n",
    ")\n",
    "percent_gas, err_gas = integrate.quad(\n",
    "    rho_z_integrate, z0, zmax, args=(xopt), full_output=0\n",
    ")\n",
    "total = percent_gas + percent_liq\n",
    "percent_gas /= total\n",
    "percent_liq /= total\n",
    "print(\n",
    "    f\"percent gas: {percent_gas * 100:.4f}%\\npercent liquid: {percent_liq * 100:.4f}%\"\n",
    ")"
   ]
  },
  {
   "cell_type": "code",
   "execution_count": null,
   "metadata": {},
   "outputs": [],
   "source": [
    "fig, ax = plt.subplots(figsize=(8, 6), dpi=200)\n",
    "dz = np.abs(zbin[1] - zbin[0])\n",
    "slice_volume = dz * L[0] * L[1] * 1e-10**3\n",
    "mol_weight = df[\"molecule\"][\"mass\"] * AMU_TO_KG\n",
    "norm = df[\"Nmolecule\"] * mol_weight / slice_volume\n",
    "\n",
    "y1 = density * norm\n",
    "y2 = rho * norm\n",
    "x = zbin\n",
    "ylim = (0, 1.1 * max(y1.max(), y2.max()))\n",
    "\n",
    "ax.set_xlabel(\"Z (Å)\")\n",
    "ax.set_ylabel(r\"$\\rho \\ (kg \\cdot m^{-3})$\")\n",
    "ax.set_title(f\"{mol} {temp}K Density Profile\")\n",
    "ax.set_xlim(zmin, zmax)\n",
    "ax.set_ylim(ylim)\n",
    "ax.plot(x, y1, label=\"data\")\n",
    "ax.plot(x, y2, label=\"fit\")\n",
    "ax.vlines(z0, 0, ylim[1], color=\"tab:red\", linestyle=\"--\", label=\"z0\", zorder=1)\n",
    "# ax.vlines(-z0, 0, ylim[1], color=\"tab:red\", linestyle=\"--\", zorder=0)\n",
    "ax.hlines(rho_l * norm, zmin, 0, linestyle=(0, (5, 10)), color=\"black\", zorder=0)\n",
    "ax.text(zmin * 0.7, rho_l * norm * 1.02, r\"$\\rho_l$\", fontsize=12)\n",
    "ax.text(zmin * 0.7, rho_g * norm * 1.7, r\"$\\rho_g$\", fontsize=12)\n",
    "\n",
    "start = z0 - d / 2\n",
    "end = z0 + d / 2\n",
    "start_arg = np.argmin(np.abs(zbin - start))\n",
    "end_arg = np.argmin(np.abs(zbin - end))\n",
    "start_y = rho[start_arg] * norm\n",
    "end_y = rho[end_arg] * norm\n",
    "ax.vlines(start, 0, start_y * 0.95, color=\"black\", linestyle=\"--\", label=\"d\", zorder=0)\n",
    "ax.vlines(end, 0, end_y * 0.95, color=\"black\", linestyle=\"--\", zorder=0)\n",
    "\n",
    "gas_start = np.argmin(np.abs(zbin - z0))\n",
    "gas_end = np.argmin(np.abs(zbin + z0))\n",
    "\n",
    "liq_start = gas_end\n",
    "liq_end = gas_start\n",
    "\n",
    "ax.fill_between(x[gas_start:], y2[gas_start:], color=\"tab:red\", alpha=0.3, label=\"gas\")\n",
    "ax.fill_between(\n",
    "    x[:gas_end],\n",
    "    y2[:gas_end],\n",
    "    color=\"tab:red\",\n",
    "    alpha=0.3,\n",
    "    zorder=0,\n",
    ")\n",
    "\n",
    "ax.fill_between(\n",
    "    x[liq_start - 1 : liq_end + 1],\n",
    "    y2[liq_start - 1 : liq_end + 1],\n",
    "    color=\"tab:blue\",\n",
    "    alpha=0.3,\n",
    "    label=\"cond.\",\n",
    "    zorder=0,\n",
    ")\n",
    "\n",
    "\n",
    "ax.text(-10, 0.5 * ylim[1], f\"{percent_liq * 100:.1f}%\", fontsize=12)\n",
    "ax.text(\n",
    "    -10,\n",
    "    0.45 * ylim[1],\n",
    "    f\"{percent_liq_kmeans * 100:.1f}%\",\n",
    "    fontsize=12,\n",
    "    color=\"tab:green\",\n",
    ")\n",
    "ax.text(0.6 * zmax, 1.5 * rho_g * norm, f\"{percent_gas * 100:.1f}%\", fontsize=12)\n",
    "ax.text(\n",
    "    0.75 * zmax,\n",
    "    1.5 * rho_g * norm,\n",
    "    f\"{percent_gas_kmeans * 100:.1f}%\",\n",
    "    fontsize=12,\n",
    "    color=\"tab:green\",\n",
    ")\n",
    "\n",
    "x = z0\n",
    "y = rho_coexist * norm\n",
    "\n",
    "ax.scatter(x, y, color=\"black\", zorder=10, s=15)\n",
    "ax.text(x * 1.1, y, rf\"$\\rho_c$ = {y:.1f}\", fontsize=10)\n",
    "\n",
    "ax.legend()\n",
    "\n",
    "plt.show()"
   ]
  },
  {
   "cell_type": "code",
   "execution_count": null,
   "metadata": {},
   "outputs": [],
   "source": []
  },
  {
   "cell_type": "code",
   "execution_count": 328,
   "metadata": {},
   "outputs": [],
   "source": [
    "\n"
   ]
  },
  {
   "cell_type": "code",
   "execution_count": null,
   "metadata": {},
   "outputs": [],
   "source": [
    "np.mean(df[\"Ngas\"][lag:] / df[\"Nmolecule\"])\n"
   ]
  },
  {
   "cell_type": "code",
   "execution_count": null,
   "metadata": {},
   "outputs": [],
   "source": [
    "plt.plot(df[\"Nliquid\"][lag:] / df[\"Nmolecule\"], color=\"tab:blue\")\n",
    "# plt.plot(df[\"Ngas\"][lag:] / df[\"Nmolecule\"], color=\"tab:orange\")\n",
    "plt.show()"
   ]
  },
  {
   "cell_type": "code",
   "execution_count": null,
   "metadata": {},
   "outputs": [],
   "source": [
    "print(np.sum(molecule_phase == 0, axis=1))"
   ]
  },
  {
   "cell_type": "code",
   "execution_count": null,
   "metadata": {},
   "outputs": [],
   "source": [
    "n_gas = np.sum(molecule_phase == 0, axis=0)\n",
    "n_gas, df[\"Ngas\"].shape, n_gas.shape"
   ]
  },
  {
   "cell_type": "code",
   "execution_count": 15,
   "metadata": {},
   "outputs": [],
   "source": [
    "reload_utils()\n",
    "v = utils.get_v(df)\n",
    "vacf = correlation.calc_vacf0(v)"
   ]
  },
  {
   "cell_type": "code",
   "execution_count": null,
   "metadata": {},
   "outputs": [],
   "source": [
    "plt.plot(vacf[10:])"
   ]
  },
  {
   "cell_type": "code",
   "execution_count": null,
   "metadata": {},
   "outputs": [],
   "source": [
    "df[\"dt\"] / 1e15"
   ]
  },
  {
   "cell_type": "code",
   "execution_count": 17,
   "metadata": {},
   "outputs": [],
   "source": [
    "reload_utils()\n",
    "dt = 1e-12\n",
    "dt = 5e-11\n",
    "D = correlation.diffusion_constant(vacf, dt)\n"
   ]
  },
  {
   "cell_type": "code",
   "execution_count": null,
   "metadata": {},
   "outputs": [],
   "source": [
    "D"
   ]
  },
  {
   "cell_type": "code",
   "execution_count": 3,
   "metadata": {},
   "outputs": [],
   "source": [
    "L = utils.get_L(df)\n",
    "R = utils.get_pos(df)\n",
    "distance = utils.distance(R, L)"
   ]
  },
  {
   "cell_type": "code",
   "execution_count": 8,
   "metadata": {},
   "outputs": [],
   "source": [
    "dr = 0.5\n",
    "g, r = correlation.pair_correlation(distance, dr, L)"
   ]
  },
  {
   "cell_type": "code",
   "execution_count": null,
   "metadata": {},
   "outputs": [],
   "source": [
    "df[\"molecule\"][\"mass\"]"
   ]
  },
  {
   "cell_type": "code",
   "execution_count": 31,
   "metadata": {},
   "outputs": [],
   "source": [
    "values = df[\"atom\"][\"timestep\"]\n",
    "Nt = df[\"Nt\"]\n",
    "Natom_per_molecule = df[\"Natom_per_molecule\"]\n",
    "Nmolecule = df[\"Nmolecule\"]\n",
    "avg = utils.molecule_average(values, Nt, Nmolecule, Natom_per_molecule).astype(np.int32)\n"
   ]
  },
  {
   "cell_type": "code",
   "execution_count": null,
   "metadata": {},
   "outputs": [],
   "source": [
    "x = df[\"atom\"][\"timetep\"]\n",
    "np.sum(df[\"atom\"][\"timestep\"][:, 0])"
   ]
  },
  {
   "cell_type": "code",
   "execution_count": null,
   "metadata": {},
   "outputs": [],
   "source": [
    "df[\"molecule\"][\"timestep\"][:, 0][-30:]"
   ]
  },
  {
   "cell_type": "code",
   "execution_count": null,
   "metadata": {},
   "outputs": [],
   "source": [
    "np.int32(50000000)"
   ]
  },
  {
   "cell_type": "code",
   "execution_count": null,
   "metadata": {},
   "outputs": [],
   "source": [
    "df[\"timesteps\"]"
   ]
  },
  {
   "cell_type": "code",
   "execution_count": null,
   "metadata": {},
   "outputs": [],
   "source": [
    "np.unique(df[\"atom\"][\"timestep\"][:, 0])"
   ]
  },
  {
   "cell_type": "code",
   "execution_count": null,
   "metadata": {},
   "outputs": [],
   "source": [
    "df[\"timesteps\"].max()"
   ]
  },
  {
   "cell_type": "code",
   "execution_count": null,
   "metadata": {},
   "outputs": [],
   "source": [
    "np.int16(df[\"timesteps\"].max())"
   ]
  },
  {
   "cell_type": "code",
   "execution_count": null,
   "metadata": {},
   "outputs": [],
   "source": [
    "np.sort(g)[:10]"
   ]
  },
  {
   "cell_type": "code",
   "execution_count": null,
   "metadata": {},
   "outputs": [],
   "source": [
    "plotting.plot_pair_correlation(g, r)\n",
    "plt.show()"
   ]
  },
  {
   "cell_type": "code",
   "execution_count": null,
   "metadata": {},
   "outputs": [],
   "source": [
    "n = np.arange(1, 10)\n",
    "n2 = np.arange(10, 100, 10)\n",
    "n = np.concatenate((n, n2))\n",
    "kvecs, kmags, kmask, start = sk_init(df, n)\n",
    "r = get_pos(df).T\n",
    "mean_sk = sk_time_average(r, kvecs, kmask, start)\n"
   ]
  },
  {
   "cell_type": "code",
   "execution_count": null,
   "metadata": {},
   "outputs": [],
   "source": [
    "bin_centers, sk_bin = sk_binned(df, n, mean_sk, dw=1)\n",
    "fig, ax = plt.subplots()\n",
    "ax.plot(bin_centers, sk_bin)\n",
    "ax.scatter(bin_centers, sk_bin, s=10)\n",
    "plt.show()\n"
   ]
  },
  {
   "cell_type": "code",
   "execution_count": null,
   "metadata": {},
   "outputs": [],
   "source": [
    "reload_utils()\n",
    "lags = [i for i in range(6, 10, 2)]\n",
    "radii = [i for i in range(14, 28, 2)]\n",
    "utils.generate_dz(lags, df)\n",
    "utils.generate_coord_num(radii, df)\n",
    "utils.generate_displacement(lags, df)\n"
   ]
  },
  {
   "cell_type": "code",
   "execution_count": null,
   "metadata": {},
   "outputs": [],
   "source": [
    "metal_mask = df[\"metal_mask\"]\n",
    "pe_mol = np.sum(df[\"molecule\"][\"pe\"], axis=1)\n",
    "ke_mol = np.sum(df[\"molecule\"][\"ke\"], axis=1)\n",
    "pe_metal = np.sum(df[\"atom\"][\"pe\"][:, metal_mask], axis=1)\n",
    "ke_metal = np.sum(df[\"atom\"][\"ke\"][:, metal_mask], axis=1)\n",
    "E_total = pe_mol + ke_mol + pe_metal + ke_metal\n",
    "E_mol = pe_mol + ke_mol\n"
   ]
  },
  {
   "cell_type": "code",
   "execution_count": null,
   "metadata": {},
   "outputs": [],
   "source": [
    "%matplotlib inline\n",
    "fig1, ax1 = utils.plot_energyac(\n",
    "    E_total, ylabel=\"Total System Energy\", title=\"Trisiloxane 500K\"\n",
    ")\n",
    "fig2, ax2 = utils.plot_energyac(\n",
    "    E_mol, ylabel=\"Total Molecule Energy\", title=\"Trisiloxane 500K\"\n",
    ")\n",
    "fig3, ax3 = utils.plot_energyac(\n",
    "    pe_metal + pe_mol, ylabel=\"Total Potential Energy\", title=\"Trisiloxane 500K\"\n",
    ")\n",
    "fig4, ax4 = utils.plot_energyac(\n",
    "    ke_metal + ke_mol, ylabel=\"Total Kinetic Energy\", title=\"Trisiloxane 500K\"\n",
    ")\n",
    "plt.close(\"all\")\n",
    "# plt.show()\n"
   ]
  },
  {
   "cell_type": "code",
   "execution_count": null,
   "metadata": {},
   "outputs": [],
   "source": [
    "reload_utils()\n",
    "lag = 8\n",
    "rad = 20\n",
    "nstart = 10\n",
    "seed = 0\n",
    "tol = 1e-12\n",
    "t = 80\n",
    "# lag = 0\n",
    "cluster_vars = [f\"coordination_{rad}\", \"pe\", f\"log(dz_{lag})\"]\n",
    "cluster_vars = [f\"log(displacement_{lag})\"]\n",
    "# cluster_vars = [f\"coordination_26\"]\n",
    "df[\"cluster_vars\"] = cluster_vars\n",
    "molecule_phase, atom_phase, centroids, err = kmeans.classify_phase(\n",
    "    df, cluster_vars, start=400\n",
    ")\n"
   ]
  },
  {
   "cell_type": "code",
   "execution_count": null,
   "metadata": {},
   "outputs": [],
   "source": [
    "plot_rate(df, title=\"Evaporation Rate - Condensation Rate\")\n"
   ]
  },
  {
   "cell_type": "code",
   "execution_count": null,
   "metadata": {},
   "outputs": [],
   "source": []
  }
 ],
 "metadata": {
  "kernelspec": {
   "display_name": "ovito",
   "language": "python",
   "name": "python3"
  },
  "language_info": {
   "codemirror_mode": {
    "name": "ipython",
    "version": 3
   },
   "file_extension": ".py",
   "mimetype": "text/x-python",
   "name": "python",
   "nbconvert_exporter": "python",
   "pygments_lexer": "ipython3",
   "version": "3.12.7"
  }
 },
 "nbformat": 4,
 "nbformat_minor": 2
}
